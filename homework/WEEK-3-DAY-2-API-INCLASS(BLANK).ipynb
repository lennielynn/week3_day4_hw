{
 "cells": [
  {
   "cell_type": "markdown",
   "metadata": {
    "id": "ObV5_k3qTHI9"
   },
   "source": [
    "# APIs\n"
   ]
  },
  {
   "cell_type": "markdown",
   "metadata": {
    "id": "NaFupEOiTHJC"
   },
   "source": [
    "## Tasks Today:\n",
    "1) <b>Requests and the pokemon API </b> <br>\n"
   ]
  },
  {
   "cell_type": "markdown",
   "metadata": {
    "id": "Zxpke9pSTHJD"
   },
   "source": [
    "# working with APis"
   ]
  },
  {
   "cell_type": "markdown",
   "metadata": {
    "id": "lyjXgpcCTHJD"
   },
   "source": [
    "<p> What exactly is an API? <br> <br>\n",
    "API is the acronym for Application Programming Interface, which is a software intermediary that allows two applications to talk to each other. Each time you use an app like Facebook, send an instant message, or check the weather on your phone, you're using an API. </p>"
   ]
  },
  {
   "cell_type": "markdown",
   "metadata": {
    "id": "1SVoog_rTHJE"
   },
   "source": [
    "### The Poke API  allows you to retreive a pokemon's information from PokeAPI https://pokeapi.co/\n",
    "\n"
   ]
  },
  {
   "cell_type": "code",
   "execution_count": 3,
   "metadata": {
    "id": "xVeZOfd9THJF"
   },
   "outputs": [
    {
     "ename": "SyntaxError",
     "evalue": "EOL while scanning string literal (2408091229.py, line 12)",
     "output_type": "error",
     "traceback": [
      "\u001b[0;36m  File \u001b[0;32m\"/var/folders/s7/ym6qfs052lx45gk4xgsyttym0000gp/T/ipykernel_33174/2408091229.py\"\u001b[0;36m, line \u001b[0;32m12\u001b[0m\n\u001b[0;31m    print (f'Bad request (response.status_code), please choose valid pokemon\")\u001b[0m\n\u001b[0m                                                                              ^\u001b[0m\n\u001b[0;31mSyntaxError\u001b[0m\u001b[0;31m:\u001b[0m EOL while scanning string literal\n"
     ]
    }
   ],
   "source": [
    "# making an API call\n",
    "from requests import get\n",
    "\n",
    "\n",
    "response = get('https://pokeapi.co/api/v2/pokemon/ditto/')\n",
    "\n",
    "print(response.headers [ 'Content -Type' ])\n",
    "\n",
    "if response.ok:\n",
    "  response.json() \n",
    "else:\n",
    " print(f'Bad request (response.status_code), please choose valid pokemon')\n"
   ]
  },
  {
   "cell_type": "markdown",
   "metadata": {
    "id": "1RvTFEkyTHJH"
   },
   "source": [
    "### Display a Pokemon's name, weight, abilities, and types"
   ]
  },
  {
   "cell_type": "code",
   "execution_count": null,
   "metadata": {
    "id": "sIWc1CZnTHJI"
   },
   "outputs": [],
   "source": [
    "# get the name\n"
   ]
  },
  {
   "cell_type": "code",
   "execution_count": null,
   "metadata": {
    "id": "F3pb50AmTHJJ"
   },
   "outputs": [],
   "source": [
    "# get types\n"
   ]
  },
  {
   "cell_type": "code",
   "execution_count": null,
   "metadata": {
    "id": "0XQaKHiwTHJK"
   },
   "outputs": [],
   "source": [
    "# get weight\n"
   ]
  },
  {
   "cell_type": "code",
   "execution_count": null,
   "metadata": {
    "id": "CPQTa8sDTHJK"
   },
   "outputs": [],
   "source": [
    "# get abilities\n"
   ]
  },
  {
   "cell_type": "code",
   "execution_count": null,
   "metadata": {
    "id": "Of-4VUk9THJK"
   },
   "outputs": [],
   "source": [
    "# Create a structure for a single pokemon\n"
   ]
  },
  {
   "cell_type": "code",
   "execution_count": null,
   "metadata": {
    "id": "mnDNyaEDTHJL"
   },
   "outputs": [],
   "source": []
  },
  {
   "cell_type": "markdown",
   "metadata": {
    "id": "TvSJuYsaTHJL"
   },
   "source": [
    "#### Create a function to Pull in your own Pokemon's data"
   ]
  },
  {
   "cell_type": "code",
   "execution_count": null,
   "metadata": {
    "id": "9ATOS0vNTHJL"
   },
   "outputs": [],
   "source": [
    "def poke_api_call(pokemon):\n",
    "    pass"
   ]
  },
  {
   "cell_type": "markdown",
   "metadata": {
    "id": "xrTKBkEATHJM"
   },
   "source": [
    "Choose your pokemon"
   ]
  },
  {
   "cell_type": "code",
   "execution_count": null,
   "metadata": {
    "id": "oSWewZoQTHJM"
   },
   "outputs": [],
   "source": [
    "from random import randint\n",
    "# Random number generated for each pokemon id\n",
    "random_team = [randint(1,898) for i in range(6)]\n",
    "\n",
    "your_team = ['electabuzz', 'haunter','tyranitar','blaziken','marowak','dragonair']\n"
   ]
  },
  {
   "cell_type": "markdown",
   "metadata": {
    "id": "FFBaMJkeTHJN"
   },
   "source": [
    "#### Use your function to create a dictionary of your Johto League 6  (favorite 6 pokemon)"
   ]
  },
  {
   "cell_type": "code",
   "execution_count": null,
   "metadata": {
    "id": "NMe_MMX-THJN"
   },
   "outputs": [],
   "source": [
    "# Place all 6 of your pokemon on the object below, each pokemon should have at least as much info as Pikachu did.\n",
    "my_six_pokemon = {}\n"
   ]
  },
  {
   "cell_type": "markdown",
   "metadata": {
    "id": "MuE_EtH2THJN"
   },
   "source": [
    "## Lets create a class called 'Pokemon' and create our pokemon as instances"
   ]
  },
  {
   "cell_type": "code",
   "execution_count": null,
   "metadata": {
    "id": "LrKcprj5THJO"
   },
   "outputs": [],
   "source": [
    "class Pokemon():\n",
    "    pass"
   ]
  },
  {
   "cell_type": "markdown",
   "metadata": {
    "id": "ueW2wZ5aTHJO"
   },
   "source": [
    "### Let's Catch some Pokemon"
   ]
  },
  {
   "cell_type": "code",
   "execution_count": null,
   "metadata": {
    "id": "HsiyhKozTHJO"
   },
   "outputs": [],
   "source": []
  },
  {
   "cell_type": "code",
   "execution_count": null,
   "metadata": {
    "id": "k_FCXOgRTHJP"
   },
   "outputs": [],
   "source": [
    "pokedex = {}\n"
   ]
  },
  {
   "cell_type": "markdown",
   "metadata": {
    "id": "7h6wh0bbTHJP"
   },
   "source": [
    "## Exercise 1:"
   ]
  },
  {
   "cell_type": "markdown",
   "metadata": {
    "id": "LPCtMl4UTHJP"
   },
   "source": [
    "### Create a Method prints an image of your pokemon\n",
    "\n",
    "<p>HINT: You may need another attribute as well to store your image url within. </p>"
   ]
  },
  {
   "cell_type": "code",
   "execution_count": null,
   "metadata": {
    "id": "35bv82OrTHJP"
   },
   "outputs": [],
   "source": [
    "# Display an image in Jupyter notebook\n",
    "from IPython.display import Image\n",
    "\n",
    "# display(Image( 'https://i.redd.it/45n4mhusa8l41.jpg', width = 300))\n"
   ]
  },
  {
   "cell_type": "code",
   "execution_count": null,
   "metadata": {
    "id": "Fnebk3CcTHJP"
   },
   "outputs": [],
   "source": [
    "# recreate your pokemon class here\n",
    "class Pokemon:\n",
    "    pass"
   ]
  },
  {
   "cell_type": "code",
   "execution_count": null,
   "metadata": {
    "id": "XKlhbmVJTHJP"
   },
   "outputs": [],
   "source": []
  },
  {
   "cell_type": "code",
   "execution_count": null,
   "metadata": {
    "id": "sE4r1L80THJQ"
   },
   "outputs": [],
   "source": [
    "# Calling our new method\n"
   ]
  },
  {
   "cell_type": "markdown",
   "metadata": {
    "id": "nhwQOo-zTHJQ"
   },
   "source": [
    "## Exercise 2:"
   ]
  },
  {
   "cell_type": "markdown",
   "metadata": {
    "id": "uYdACSqkTHJQ"
   },
   "source": [
    "### Create a Method that evolves your Pokemon\n",
    "If your pokemon can't evolve any further print a message that says \"\\<name of pokemon> can't evolve.\""
   ]
  },
  {
   "cell_type": "code",
   "execution_count": 4,
   "metadata": {
    "id": "-TYNHut6THJQ"
   },
   "outputs": [
    {
     "name": "stdout",
     "output_type": "stream",
     "text": [
      "['squirtle', 'wartortle', 'blastoise']\n",
      "wartortle Weight: 225\n",
      "Types: \n",
      "water\n",
      "Abilities: \n",
      "torrent\n",
      "rain-dish\n",
      "blastoise Weight: 855\n",
      "Types: \n",
      "water\n",
      "Abilities: \n",
      "torrent\n",
      "rain-dish\n",
      "This is your final form\n"
     ]
    }
   ],
   "source": [
    "from requests import get\n",
    "\n",
    "class Pokemon():\n",
    "    \n",
    "    def __init__(self, pokemon):\n",
    "        self.name = pokemon\n",
    "        self.weight = None\n",
    "        self.abilities = []\n",
    "        self.types = []\n",
    "        self.sprite = None\n",
    "        self.evo_chain = []\n",
    "        self.poke_api_call()\n",
    "        \n",
    "    def __repr__(self):\n",
    "        return f'<Pokemon: {self.name}>'\n",
    "    \n",
    "    def poke_api_call(self):\n",
    "        while True:\n",
    "            res = get(f'https://pokeapi.co/api/v2/pokemon/{self.name}')\n",
    "            if res.ok:\n",
    "                data = res.json()\n",
    "                self.name = data['name']\n",
    "                self.weight = data['weight']\n",
    "                self.abilities = [ability['ability']['name'] for ability in data['abilities']]\n",
    "                self.types = [poke_type['type']['name'] for poke_type in data['types']]\n",
    "                self.sprite = self.get_sprite(data)\n",
    "                break\n",
    "            else:\n",
    "                print(f'Invalid Request, status code {res.status_code}, Please enter valid pokemon')\n",
    "                self.update_pokemon()\n",
    "        if not self.evo_chain:\n",
    "          self.find_evo_chain(data['species']['url'])\n",
    "            \n",
    "    def update_pokemon(self):\n",
    "        self.name = input('Pokemon name: ')\n",
    "        \n",
    "    def get_sprite(self, data):\n",
    "        animated = data['sprites']['versions']['generation-v']['black-white']['animated']['front_default']\n",
    "        return animated if animated else data['sprites']['front_default']\n",
    "        \n",
    "    def display_info(self):\n",
    "        print(f'{self.name} Weight: {self.weight}')\n",
    "        print('Types: ')\n",
    "        for poke_type in self.types:\n",
    "            print(poke_type)\n",
    "        print('Abilities: ')\n",
    "        for ability in self.abilities:\n",
    "            print(ability)\n",
    "        # self.display_img()\n",
    "        \n",
    "    def find_evo_chain(self, species_url):\n",
    "        res = get(species_url)\n",
    "        if res.ok:\n",
    "            data = res.json()\n",
    "            res = get(data['evolution_chain']['url'])\n",
    "            if res.ok:\n",
    "                data = res.json()\n",
    "                self.populate_evo_chain(data['chain'])\n",
    "                return\n",
    "        print('Try again')\n",
    "    \n",
    "    def populate_evo_chain(self, evo_chain):\n",
    "        self.evo_chain.append(evo_chain['species']['name'])\n",
    "        if evo_chain['evolves_to']:\n",
    "          self.populate_evo_chain(evo_chain['evolves_to'][0])\n",
    "        else:\n",
    "            print(self.evo_chain)\n",
    "    \n",
    "    def evolve(self):\n",
    "        for i, pokemon in enumerate(self.evo_chain):\n",
    "            if pokemon == self.name:\n",
    "              if len(self.evo_chain) - 1 != i:\n",
    "                 self.name = self.evo_chain[i + 1]\n",
    "                 self.poke_api_call()\n",
    "                 self.display_info()\n",
    "                 break\n",
    "              else:\n",
    "                  print('This is your final form')\n",
    "    \n",
    "pokemon = Pokemon('squirtle')\n",
    "pokemon.evolve()\n",
    "pokemon.evolve()\n",
    "pokemon.evolve()\n"
   ]
  },
  {
   "cell_type": "markdown",
   "metadata": {
    "id": "H7gfqk1iTHJQ"
   },
   "source": [
    "Now let's evolve a few"
   ]
  },
  {
   "cell_type": "code",
   "execution_count": null,
   "metadata": {
    "id": "FSc3PQHaTHJR",
    "scrolled": true
   },
   "outputs": [],
   "source": []
  },
  {
   "cell_type": "code",
   "execution_count": null,
   "metadata": {
    "id": "N_0kRhnWTHJR"
   },
   "outputs": [],
   "source": []
  },
  {
   "cell_type": "code",
   "execution_count": null,
   "metadata": {
    "id": "3ornmWvGTHJR"
   },
   "outputs": [],
   "source": []
  },
  {
   "cell_type": "markdown",
   "metadata": {
    "id": "9cXZJczTTHJR"
   },
   "source": [
    "#  Final Exercise: <br> <br>Create a Move_Tutor Class that will allow the Pokemon Class to inherit a move list.\n",
    "<br>\n",
    "<p>for an added bonus you can make sure that if a pokemon has 4 moves the user can choose one of them to replace with a new move. </p>"
   ]
  },
  {
   "cell_type": "code",
   "execution_count": 11,
   "metadata": {
    "id": "2qGBinuFTHJR"
   },
   "outputs": [],
   "source": [
    "class Move_Tutor:\n",
    "    def __init__(self, pokemon):\n",
    "        self.move_list = []\n",
    "        self.name = pokemon\n",
    "        \n",
    "        \n",
    "    def teach_move(self):\n",
    "        import re\n",
    "        if len(self.move_list) <= 4:\n",
    "            while len(self.move_list) <= 4:\n",
    "                if n_move in self.move_list:\n",
    "                    print('Please enter valid input')\n",
    "                    old_move = input('what move would you like to replace?')\n",
    "                    self.move_list.pop(old_move)\n",
    "                    n_move = input('Input new move')\n",
    "                    self.move_list.append(n_move) \n",
    "                    print(self.move_list)\n",
    "                    \n",
    "squirtle = Move_Tutor('squirtle')"
   ]
  },
  {
   "cell_type": "code",
   "execution_count": null,
   "metadata": {
    "id": "oZaDdo86THJX"
   },
   "outputs": [],
   "source": []
  },
  {
   "cell_type": "code",
   "execution_count": 9,
   "metadata": {
    "id": "GpNOEBceTHJY",
    "outputId": "50902ee4-470b-4475-8ef0-092c135267ed"
   },
   "outputs": [
    {
     "ename": "NameError",
     "evalue": "name 'pikachu' is not defined",
     "output_type": "error",
     "traceback": [
      "\u001b[0;31m---------------------------------------------------------------------------\u001b[0m",
      "\u001b[0;31mNameError\u001b[0m                                 Traceback (most recent call last)",
      "Cell \u001b[0;32mIn[9], line 1\u001b[0m\n\u001b[0;32m----> 1\u001b[0m pikachu\u001b[39m.\u001b[39mteach_move()\n",
      "\u001b[0;31mNameError\u001b[0m: name 'pikachu' is not defined"
     ]
    }
   ],
   "source": [
    "pikachu.teach_move()\n"
   ]
  },
  {
   "cell_type": "code",
   "execution_count": 8,
   "metadata": {
    "id": "6iuqfc9YTHJZ",
    "outputId": "42844331-6f52-4d16-ac4e-6576470777ab"
   },
   "outputs": [
    {
     "ename": "NameError",
     "evalue": "name 'pikachu' is not defined",
     "output_type": "error",
     "traceback": [
      "\u001b[0;31m---------------------------------------------------------------------------\u001b[0m",
      "\u001b[0;31mNameError\u001b[0m                                 Traceback (most recent call last)",
      "Cell \u001b[0;32mIn[8], line 1\u001b[0m\n\u001b[0;32m----> 1\u001b[0m pikachu\u001b[39m.\u001b[39mshow_moves()\n",
      "\u001b[0;31mNameError\u001b[0m: name 'pikachu' is not defined"
     ]
    }
   ],
   "source": [
    "pikachu.show_moves()"
   ]
  }
 ],
 "metadata": {
  "colab": {
   "provenance": []
  },
  "kernelspec": {
   "display_name": "Python 3 (ipykernel)",
   "language": "python",
   "name": "python3"
  },
  "language_info": {
   "codemirror_mode": {
    "name": "ipython",
    "version": 3
   },
   "file_extension": ".py",
   "mimetype": "text/x-python",
   "name": "python",
   "nbconvert_exporter": "python",
   "pygments_lexer": "ipython3",
   "version": "3.10.4"
  }
 },
 "nbformat": 4,
 "nbformat_minor": 1
}
